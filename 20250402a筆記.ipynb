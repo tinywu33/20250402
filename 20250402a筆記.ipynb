{
  "nbformat": 4,
  "nbformat_minor": 0,
  "metadata": {
    "colab": {
      "private_outputs": true,
      "provenance": [],
      "authorship_tag": "ABX9TyNfitMa2q6UXMs7jLqqF6J1",
      "include_colab_link": true
    },
    "kernelspec": {
      "name": "python3",
      "display_name": "Python 3"
    },
    "language_info": {
      "name": "python"
    }
  },
  "cells": [
    {
      "cell_type": "markdown",
      "metadata": {
        "id": "view-in-github",
        "colab_type": "text"
      },
      "source": [
        "<a href=\"https://colab.research.google.com/github/tinywu33/20250402/blob/main/20250402a%E7%AD%86%E8%A8%98.ipynb\" target=\"_parent\"><img src=\"https://colab.research.google.com/assets/colab-badge.svg\" alt=\"Open In Colab\"/></a>"
      ]
    },
    {
      "cell_type": "markdown",
      "source": [
        "#1140402筆記"
      ],
      "metadata": {
        "id": "XcAnuZFY6xd5"
      }
    },
    {
      "cell_type": "markdown",
      "source": [
        "## 基本資料型態\n",
        "* int\n",
        "* float\n",
        "* bool\n",
        "* str"
      ],
      "metadata": {
        "id": "TiG8lzRGtonk"
      }
    },
    {
      "cell_type": "markdown",
      "source": [
        "## 基本容器型別\n",
        "* list\n",
        "* tuple\n",
        "* dict\n",
        "* set"
      ],
      "metadata": {
        "id": "78j3ZSILtviE"
      }
    },
    {
      "cell_type": "markdown",
      "source": [
        "##基本語法\n",
        "* Loops\n",
        "* functions\n",
        "* if statements\n",
        "* exception handling"
      ],
      "metadata": {
        "id": "DaH9C5flt_5R"
      }
    },
    {
      "cell_type": "markdown",
      "source": [],
      "metadata": {
        "id": "KU0iPxJh7IMl"
      }
    },
    {
      "cell_type": "code",
      "execution_count": null,
      "metadata": {
        "id": "sDx2_0LxJEE4"
      },
      "outputs": [],
      "source": [
        "#整數除法\n",
        "x=4\n",
        "y=2\n",
        "x//y"
      ]
    },
    {
      "cell_type": "code",
      "source": [
        "x/y"
      ],
      "metadata": {
        "id": "McZb_uiJ8jQ5"
      },
      "execution_count": null,
      "outputs": []
    },
    {
      "cell_type": "code",
      "source": [
        "m=[1,2,3,4,5]\n",
        "m[x//y]"
      ],
      "metadata": {
        "id": "J_mOA7yL8n5p"
      },
      "execution_count": null,
      "outputs": []
    },
    {
      "cell_type": "code",
      "source": [
        "m[x/y]\n",
        "#index須為整數"
      ],
      "metadata": {
        "id": "AFAklEVs85ns"
      },
      "execution_count": null,
      "outputs": []
    },
    {
      "cell_type": "markdown",
      "source": [
        "##應用練習 zerojudge a003\n",
        "兩光法師時常替人占卜，由於他算得又快有便宜，因此生意源源不絕，時常大排長龍，他想算 得更快一點，因此找了你這位電腦高手幫他用電腦來加快算命的速度。\n",
        "\n",
        "　　他的占卜規則很簡單，規則是這樣的，輸入一個日期，然後依照下面的公式：\n",
        "\n",
        "M=月\n",
        "D=日\n",
        "S=(M*2+D)%3\n",
        "\n",
        "得到 S 的值，再依照 S 的值從 0 到 2 分別給與 普通、吉、大吉 等三種不同的運勢"
      ],
      "metadata": {
        "id": "-PN3quFQ9j1z"
      }
    },
    {
      "cell_type": "code",
      "source": [
        "M,D=map(int,input().split())\n",
        "w=['普通','吉','大吉']\n",
        "S=(M*2+D)%3 #%取餘數\n",
        "if S==0:\n",
        "  print(w[0])\n",
        "elif S==1:\n",
        "  print(w[1])\n",
        "else:\n",
        "  print(w[2])"
      ],
      "metadata": {
        "id": "Y1t02rfW9rmB"
      },
      "execution_count": null,
      "outputs": []
    },
    {
      "cell_type": "code",
      "source": [
        "type(M)"
      ],
      "metadata": {
        "id": "geHEwb-y_gPH"
      },
      "execution_count": null,
      "outputs": []
    },
    {
      "cell_type": "markdown",
      "source": [
        "##應用練習zerojudge a002\n",
        "請寫一個程式，讀入兩個數字，並求出它們的和。每組輸入共一行，內含有兩個整數 a, b，以空白隔開，a, b絕對值皆小於\n",
        "。"
      ],
      "metadata": {
        "id": "xVVf_wsRCrJd"
      }
    },
    {
      "cell_type": "code",
      "source": [
        "M,D=map(int,input().split())\n",
        "print(M+D)"
      ],
      "metadata": {
        "id": "Z5bdGc9eCzy5"
      },
      "execution_count": null,
      "outputs": []
    },
    {
      "cell_type": "code",
      "source": [
        "for i in range(5):\n",
        "  print(i)\n",
        "  print('hello')"
      ],
      "metadata": {
        "id": "Z3J8J4K5vhkM"
      },
      "execution_count": null,
      "outputs": []
    },
    {
      "cell_type": "code",
      "source": [
        "w"
      ],
      "metadata": {
        "id": "qoWgJz3IwOdY"
      },
      "execution_count": null,
      "outputs": []
    },
    {
      "cell_type": "code",
      "source": [
        "for i in w:\n",
        "  print(i)"
      ],
      "metadata": {
        "id": "d4svtZcCwQpb"
      },
      "execution_count": null,
      "outputs": []
    },
    {
      "cell_type": "code",
      "source": [
        "d={'dog':'狗','cat':'貓','rabbit':'兔子'}\n",
        "for i in d:\n",
        "  print(i)"
      ],
      "metadata": {
        "id": "ASALcvm6wWDx"
      },
      "execution_count": null,
      "outputs": []
    },
    {
      "cell_type": "code",
      "source": [
        "for i in d:\n",
        "  print(d[i])"
      ],
      "metadata": {
        "id": "KngSBYITxASo"
      },
      "execution_count": null,
      "outputs": []
    },
    {
      "cell_type": "code",
      "source": [
        "for i in d:\n",
        "  print(i,'=>',d[i])"
      ],
      "metadata": {
        "id": "TEi2PuCSxWJ8"
      },
      "execution_count": null,
      "outputs": []
    },
    {
      "cell_type": "code",
      "source": [
        "for i in d:\n",
        "  print(d)"
      ],
      "metadata": {
        "id": "rr2bjqbOw4Px"
      },
      "execution_count": null,
      "outputs": []
    },
    {
      "cell_type": "code",
      "source": [
        "n={1,3,5,7,9}\n",
        "n"
      ],
      "metadata": {
        "id": "-kmYPkwQxh8e"
      },
      "execution_count": null,
      "outputs": []
    },
    {
      "cell_type": "code",
      "source": [
        "type(n)"
      ],
      "metadata": {
        "id": "o9wrDeH9xwPi"
      },
      "execution_count": null,
      "outputs": []
    },
    {
      "cell_type": "code",
      "source": [
        "for i in n:\n",
        "  print(i)"
      ],
      "metadata": {
        "id": "Zsb-srZmxyyL"
      },
      "execution_count": null,
      "outputs": []
    },
    {
      "cell_type": "markdown",
      "source": [
        "## 資料轉型\n",
        "* bool => True=1 ,False=0"
      ],
      "metadata": {
        "id": "aywExxe1yIgk"
      }
    },
    {
      "cell_type": "markdown",
      "source": [
        "### int & float"
      ],
      "metadata": {
        "id": "ExA_vVwhyrjg"
      }
    },
    {
      "cell_type": "code",
      "source": [
        "x=3\n",
        "y=5.3\n",
        "x+y"
      ],
      "metadata": {
        "id": "CRlY6QSXx_0p"
      },
      "execution_count": null,
      "outputs": []
    },
    {
      "cell_type": "markdown",
      "source": [
        "### int & bool"
      ],
      "metadata": {
        "id": "KH0SgyLky3pJ"
      }
    },
    {
      "cell_type": "code",
      "source": [
        "x=1\n",
        "y=True\n",
        "x+y"
      ],
      "metadata": {
        "id": "rh8UR9REy0Ol"
      },
      "execution_count": null,
      "outputs": []
    },
    {
      "cell_type": "code",
      "source": [
        "x=1.4\n",
        "y=True\n",
        "x+y"
      ],
      "metadata": {
        "id": "e6b0SD1HzGzM"
      },
      "execution_count": null,
      "outputs": []
    },
    {
      "cell_type": "markdown",
      "source": [
        "### int & str"
      ],
      "metadata": {
        "id": "NLAMbUr4zP0G"
      }
    },
    {
      "cell_type": "code",
      "source": [
        "x='3254'\n",
        "y=6\n",
        "x+y"
      ],
      "metadata": {
        "id": "ydVz3OsjzNBb"
      },
      "execution_count": null,
      "outputs": []
    },
    {
      "cell_type": "code",
      "source": [
        "x='4522'\n",
        "y=6\n",
        "int(x)+y"
      ],
      "metadata": {
        "id": "vzEsbMfYzgOB"
      },
      "execution_count": null,
      "outputs": []
    },
    {
      "cell_type": "code",
      "source": [
        "x='52527'\n",
        "y=6\n",
        "x+str(y)"
      ],
      "metadata": {
        "id": "NngBCJ9YzpIp"
      },
      "execution_count": null,
      "outputs": []
    },
    {
      "cell_type": "markdown",
      "source": [
        "## 函式的傳回值"
      ],
      "metadata": {
        "id": "KtD-uDljzzVR"
      }
    },
    {
      "cell_type": "code",
      "source": [
        "def square01(x):\n",
        " print(x**2)\n",
        "\n",
        "def square02(x):\n",
        "  return x**2"
      ],
      "metadata": {
        "id": "CtUOJdf9z9gb"
      },
      "execution_count": null,
      "outputs": []
    },
    {
      "cell_type": "code",
      "source": [
        "square01(4)"
      ],
      "metadata": {
        "id": "m8t_8TNc0YpN"
      },
      "execution_count": null,
      "outputs": []
    },
    {
      "cell_type": "code",
      "source": [
        "square02(4)"
      ],
      "metadata": {
        "id": "d1WNw8g90dKz"
      },
      "execution_count": null,
      "outputs": []
    },
    {
      "cell_type": "code",
      "source": [
        "x1=square01(4)  #有顯示，但無回傳, 記憶體中無儲存"
      ],
      "metadata": {
        "id": "KzUPmnZT0tCL"
      },
      "execution_count": null,
      "outputs": []
    },
    {
      "cell_type": "code",
      "source": [
        "x1"
      ],
      "metadata": {
        "id": "CR9gK6s916yO"
      },
      "execution_count": null,
      "outputs": []
    },
    {
      "cell_type": "code",
      "source": [
        "x2=square02(4) #只放在記憶體，有傳回值內容，無顯示"
      ],
      "metadata": {
        "id": "7RZHEsla0y7_"
      },
      "execution_count": null,
      "outputs": []
    },
    {
      "cell_type": "code",
      "source": [
        "x2"
      ],
      "metadata": {
        "id": "sY1cL3Lb0vxw"
      },
      "execution_count": null,
      "outputs": []
    },
    {
      "cell_type": "code",
      "source": [
        "z=None\n",
        "type(z)"
      ],
      "metadata": {
        "id": "BusfLYzZ3Xf2"
      },
      "execution_count": null,
      "outputs": []
    },
    {
      "cell_type": "markdown",
      "source": [
        "##爬蟲\n",
        "從網路上抓取資料的程式"
      ],
      "metadata": {
        "id": "kD1QNfOw7jkp"
      }
    },
    {
      "cell_type": "code",
      "source": [
        "import requests"
      ],
      "metadata": {
        "id": "4ItTEzMJ73qf"
      },
      "execution_count": null,
      "outputs": []
    },
    {
      "cell_type": "code",
      "source": [
        "r=requests.get('https://cc.tvbs.com.tw/img/upload/2022/04/23/20220423120702-606bb9e8.jpg')"
      ],
      "metadata": {
        "id": "WEfRUt1B_kNB"
      },
      "execution_count": null,
      "outputs": []
    },
    {
      "cell_type": "code",
      "source": [
        "r1=requests.get('https://cdn.ftvnews.com.tw/manasystem/FileData/News/3c1a2cca-5b61-4b25-85bd-2d94ccd194d1.jpg')"
      ],
      "metadata": {
        "id": "sqGgNgFXDxQ8"
      },
      "execution_count": null,
      "outputs": []
    },
    {
      "cell_type": "code",
      "source": [
        "with open('lin.jpg','wb') as f:\n",
        "  f.write(r.content)"
      ],
      "metadata": {
        "id": "RBsVgvw9_vM0"
      },
      "execution_count": null,
      "outputs": []
    },
    {
      "cell_type": "code",
      "source": [
        "with open('lin1.jpg','wb') as f:\n",
        "  f.write(r1.content)"
      ],
      "metadata": {
        "id": "FjmqtIvZEAG8"
      },
      "execution_count": null,
      "outputs": []
    },
    {
      "cell_type": "markdown",
      "source": [
        "##應用練習02"
      ],
      "metadata": {
        "id": "GrgCNrJcEhmR"
      }
    },
    {
      "cell_type": "code",
      "source": [
        "url='https://cdn.ftvnews.com.tw/manasystem/FileData/News/3c1a2cca-5b61-4b25-85bd-2d94ccd194d1.jpg'"
      ],
      "metadata": {
        "id": "juKC3NfyElWP"
      },
      "execution_count": null,
      "outputs": []
    },
    {
      "cell_type": "code",
      "source": [
        "url.split?"
      ],
      "metadata": {
        "id": "zq8PLz9PE7HB"
      },
      "execution_count": null,
      "outputs": []
    },
    {
      "cell_type": "code",
      "source": [
        "url.split('/')"
      ],
      "metadata": {
        "id": "N7B6oTLCFWDp"
      },
      "execution_count": null,
      "outputs": []
    },
    {
      "cell_type": "code",
      "source": [
        "url.split('/')[6]"
      ],
      "metadata": {
        "id": "wsB8lA25Fjg1"
      },
      "execution_count": null,
      "outputs": []
    },
    {
      "cell_type": "code",
      "source": [
        "url.split('/')[-1]"
      ],
      "metadata": {
        "id": "7_711Nf9GOG-"
      },
      "execution_count": null,
      "outputs": []
    },
    {
      "cell_type": "markdown",
      "source": [
        "## PIL的使用簡介\n",
        "* PIL=>Python Image Library\n",
        "* pillow=>PIL fork"
      ],
      "metadata": {
        "id": "mXx3gwa73Ivx"
      }
    },
    {
      "cell_type": "code",
      "source": [
        "from PIL import Image"
      ],
      "metadata": {
        "id": "icKUE0Wf3RqZ"
      },
      "execution_count": null,
      "outputs": []
    },
    {
      "cell_type": "code",
      "source": [
        "img=Image.open('lin1.jpg')"
      ],
      "metadata": {
        "id": "4jkrk2T57OJw"
      },
      "execution_count": null,
      "outputs": []
    },
    {
      "cell_type": "code",
      "source": [
        "img"
      ],
      "metadata": {
        "id": "73BNUtaYGQmh"
      },
      "execution_count": null,
      "outputs": []
    },
    {
      "cell_type": "code",
      "source": [
        "img1=Image.open('下載.jpg')"
      ],
      "metadata": {
        "id": "s__7SFcMHG0w"
      },
      "execution_count": null,
      "outputs": []
    },
    {
      "cell_type": "code",
      "source": [
        "img1"
      ],
      "metadata": {
        "id": "3yD6XxhXHSeL"
      },
      "execution_count": null,
      "outputs": []
    },
    {
      "cell_type": "code",
      "source": [
        "type(img)"
      ],
      "metadata": {
        "id": "MzN8vMdeH4ue"
      },
      "execution_count": null,
      "outputs": []
    },
    {
      "cell_type": "markdown",
      "source": [
        "##檢查圖片屬性"
      ],
      "metadata": {
        "id": "Liyi5j2zIIMy"
      }
    },
    {
      "cell_type": "code",
      "source": [
        "img.size"
      ],
      "metadata": {
        "id": "bxZCeL9xG4Em"
      },
      "execution_count": null,
      "outputs": []
    },
    {
      "cell_type": "code",
      "source": [
        "img.mode"
      ],
      "metadata": {
        "id": "ADlUgj51IVMn"
      },
      "execution_count": null,
      "outputs": []
    },
    {
      "cell_type": "markdown",
      "source": [
        "##彩色轉單色"
      ],
      "metadata": {
        "id": "ls_vGjciIppL"
      }
    },
    {
      "cell_type": "code",
      "source": [
        "img.convert('L').save('lin_gray.jpg')"
      ],
      "metadata": {
        "id": "wtJBm5LTIcPC"
      },
      "execution_count": null,
      "outputs": []
    },
    {
      "cell_type": "code",
      "source": [
        "imggray=Image.open('lin_gray.jpg')"
      ],
      "metadata": {
        "id": "T7BRnW8MJWVE"
      },
      "execution_count": null,
      "outputs": []
    },
    {
      "cell_type": "code",
      "source": [
        "imggray"
      ],
      "metadata": {
        "id": "7UnHsYxZvYYG"
      },
      "execution_count": null,
      "outputs": []
    },
    {
      "cell_type": "markdown",
      "source": [
        "##縮放圖片\n",
        "* resize\n",
        "* thumbnail"
      ],
      "metadata": {
        "id": "obnjN_9cvhHm"
      }
    },
    {
      "cell_type": "code",
      "source": [
        "img.resize?"
      ],
      "metadata": {
        "id": "w7NuLSBJv4gA"
      },
      "execution_count": null,
      "outputs": []
    },
    {
      "cell_type": "code",
      "source": [
        "img.size  #tuple"
      ],
      "metadata": {
        "id": "N5-RRbqywOLO"
      },
      "execution_count": null,
      "outputs": []
    },
    {
      "cell_type": "code",
      "source": [
        "img.resize((200,200))"
      ],
      "metadata": {
        "id": "w7aRM5IRv-d1"
      },
      "execution_count": null,
      "outputs": []
    },
    {
      "cell_type": "code",
      "source": [
        "img"
      ],
      "metadata": {
        "id": "eU3EHAadwi4W"
      },
      "execution_count": null,
      "outputs": []
    },
    {
      "cell_type": "code",
      "source": [
        "img.size"
      ],
      "metadata": {
        "id": "t4S9wqqRwwoO"
      },
      "execution_count": null,
      "outputs": []
    },
    {
      "cell_type": "code",
      "source": [
        "img.resize((900//2,507//2)) #等比例整數縮小"
      ],
      "metadata": {
        "id": "4EH7nv7kwEAX"
      },
      "execution_count": null,
      "outputs": []
    },
    {
      "cell_type": "code",
      "source": [
        "n=4\n",
        "img.resize((img.size[0]//n,img.size[1]//n))"
      ],
      "metadata": {
        "id": "9XGQl2Z7xB3A"
      },
      "execution_count": null,
      "outputs": []
    },
    {
      "cell_type": "code",
      "source": [
        "img.thumbnail?"
      ],
      "metadata": {
        "id": "c1p0mhNGyK2e"
      },
      "execution_count": null,
      "outputs": []
    },
    {
      "cell_type": "code",
      "source": [
        "img1=img.copy()"
      ],
      "metadata": {
        "id": "xYLhN3r7yRJu"
      },
      "execution_count": null,
      "outputs": []
    },
    {
      "cell_type": "code",
      "source": [
        "img1"
      ],
      "metadata": {
        "id": "TlzE9ZULyZ6G"
      },
      "execution_count": null,
      "outputs": []
    },
    {
      "cell_type": "code",
      "source": [
        "img1.size"
      ],
      "metadata": {
        "id": "1TZNmDOIytFt"
      },
      "execution_count": null,
      "outputs": []
    },
    {
      "cell_type": "code",
      "source": [
        "img1.thumbnail((200,200)) #自動等比例縮圖"
      ],
      "metadata": {
        "id": "16iN3BnOyvou"
      },
      "execution_count": null,
      "outputs": []
    },
    {
      "cell_type": "code",
      "source": [
        "img1"
      ],
      "metadata": {
        "id": "xqJGBh8oy531"
      },
      "execution_count": null,
      "outputs": []
    },
    {
      "cell_type": "code",
      "source": [
        "img1.size"
      ],
      "metadata": {
        "id": "CE2uJmOuzBuG"
      },
      "execution_count": null,
      "outputs": []
    },
    {
      "cell_type": "markdown",
      "source": [
        "##圖片裁切\n"
      ],
      "metadata": {
        "id": "Y-Bdh9jbzMWH"
      }
    },
    {
      "cell_type": "code",
      "source": [
        "img.crop?"
      ],
      "metadata": {
        "id": "3tXXUowazT6R"
      },
      "execution_count": null,
      "outputs": []
    },
    {
      "cell_type": "code",
      "source": [
        "img.size"
      ],
      "metadata": {
        "id": "7Nvhzi8Gzv4w"
      },
      "execution_count": null,
      "outputs": []
    },
    {
      "cell_type": "code",
      "source": [
        "img"
      ],
      "metadata": {
        "id": "caOwQdxvzzPX"
      },
      "execution_count": null,
      "outputs": []
    },
    {
      "cell_type": "code",
      "source": [
        "img2=img.crop((380,100,680,450)) #橫共900，左0到380、直共507，上0到100、右從左開始0到680、下從上往下0到450"
      ],
      "metadata": {
        "id": "PQ9Qb02zzYI2"
      },
      "execution_count": null,
      "outputs": []
    },
    {
      "cell_type": "code",
      "source": [
        "img2"
      ],
      "metadata": {
        "id": "0_F_v9P1znH-"
      },
      "execution_count": null,
      "outputs": []
    }
  ]
}